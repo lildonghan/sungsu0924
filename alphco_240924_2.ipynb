{
 "cells": [
  {
   "cell_type": "markdown",
   "id": "13fdd992-1f4a-421d-aa8a-32f00a68b3d3",
   "metadata": {},
   "source": [
    "# 대제목"
   ]
  },
  {
   "cell_type": "markdown",
   "id": "95d167ff-9dbb-43dc-886b-5c71c55b6c20",
   "metadata": {},
   "source": [
    "## 중간제목 "
   ]
  },
  {
   "cell_type": "code",
   "execution_count": 2,
   "id": "5c3f1f64-3871-4bc3-a944-ca3f496567bb",
   "metadata": {},
   "outputs": [
    {
     "data": {
      "text/plain": [
       "2"
      ]
     },
     "execution_count": 2,
     "metadata": {},
     "output_type": "execute_result"
    }
   ],
   "source": [
    "1+1"
   ]
  },
  {
   "cell_type": "code",
   "execution_count": 5,
   "id": "aee0b48d-df36-4419-8700-004b29161503",
   "metadata": {},
   "outputs": [
    {
     "name": "stdout",
     "output_type": "stream",
     "text": [
      "2.1.1\n",
      "2.2.3\n",
      "1.5.2\n",
      "3.9.2\n",
      "0.13.2\n"
     ]
    }
   ],
   "source": [
    "import numpy as np \n",
    "import pandas as pd \n",
    "import sklearn \n",
    "import matplotlib as mpl\n",
    "import seaborn as sns\n",
    "\n",
    "print(np.__version__)\n",
    "print(pd.__version__)\n",
    "print(sklearn.__version__)\n",
    "print(mpl.__version__)\n",
    "print(sns.__version__)"
   ]
  },
  {
   "cell_type": "code",
   "execution_count": null,
   "id": "196e7065-69e9-43e2-a191-85a6a1edd5d9",
   "metadata": {},
   "outputs": [],
   "source": []
  }
 ],
 "metadata": {
  "kernelspec": {
   "display_name": "Python 3 (ipykernel)",
   "language": "python",
   "name": "python3"
  },
  "language_info": {
   "codemirror_mode": {
    "name": "ipython",
    "version": 3
   },
   "file_extension": ".py",
   "mimetype": "text/x-python",
   "name": "python",
   "nbconvert_exporter": "python",
   "pygments_lexer": "ipython3",
   "version": "3.12.6"
  }
 },
 "nbformat": 4,
 "nbformat_minor": 5
}
